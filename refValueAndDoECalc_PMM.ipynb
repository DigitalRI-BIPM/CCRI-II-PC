{
 "cells": [
  {
   "cell_type": "markdown",
   "id": "b93fee4b",
   "metadata": {},
   "source": [
    "# Loading step\n",
    "This previous step will get the \"x\" and \"u\" values in order to calculate the Comparison Reference Values and Degrees of Equivalence.\n"
   ]
  },
  {
   "cell_type": "code",
   "execution_count": 2,
   "id": "018f73e6",
   "metadata": {},
   "outputs": [],
   "source": [
    "import json\n",
    "import pandas as pd\n",
    "\n",
    "with open(\"activity_data.json\", \"r\", encoding=\"utf-8\") as f:\n",
    "    data = json.load(f)\n",
    "\n",
    "df = pd.DataFrame(data)"
   ]
  },
  {
   "cell_type": "markdown",
   "id": "c20c9ae9-099f-401e-afb4-1f8e5dba524b",
   "metadata": {},
   "source": [
    "# PMM\n",
    "Welcome to the interactive Python notebook for running the Power Moderated Mean method for key comparisons. This notebook provides a user-friendly interface to apply the Power Moderated Mean (PMM) method, facilitating robust statistical analysis and comparison of key data sets."
   ]
  },
  {
   "cell_type": "markdown",
   "id": "0508da9d-7242-4cc6-ada5-c9442ea151ea",
   "metadata": {},
   "source": [
    "## Importation of Python modules for math and plot"
   ]
  },
  {
   "cell_type": "code",
   "execution_count": 3,
   "id": "ef1e5e66-7d6b-492a-9c49-44bdd05bc6a0",
   "metadata": {},
   "outputs": [],
   "source": [
    "from numpy import asarray, sum, mean, average, sqrt, zeros, median, arange\n",
    "from matplotlib.pyplot import subplots, savefig, axhline, rcParams, xlim, ylim, plot, legend, figtext, text, errorbar, figure,tight_layout, xticks\n",
    "from scipy.optimize import minimize"
   ]
  },
  {
   "cell_type": "markdown",
   "id": "f04c83ee-51e8-4271-a88b-a1fe6ef8cf7e",
   "metadata": {},
   "source": [
    "## PMM code\n",
    "Below is the Python function for PMM evaluation of the key comparison reference value."
   ]
  },
  {
   "cell_type": "code",
   "execution_count": 4,
   "id": "e5e21b56-14b2-47cd-a126-c8a476d7a66c",
   "metadata": {},
   "outputs": [],
   "source": [
    "def PMM(x,u,*,autoRej=False,k=2.5,conv=1e-4): # PMM calculation\n",
    "    \"\"\"This function calculates the Power-Modered Mean (PMM) on a data sample.\n",
    "    \n",
    "    References: \n",
    "        [Accred Qual Assur (2008)13:83-89, Metrologia 52(2015)S200]\n",
    "        https://link.springer.com/article/10.1007/s00769-007-0330-1\n",
    "        https://iopscience.iop.org/article/10.1088/0026-1394/52/3/S200/pdf\n",
    "    \n",
    "    This method is applied to calculate de Key Comparison Reference Value (KCRV)\n",
    "    related to international inter-laboratory comparisons of the CIPM/CCRI(II). \n",
    "    It was validated from PMM v1.xlsm provided by S. Pommé [email of the 14 Jan 2020]\n",
    "    \n",
    "    :param x: Sample of values\n",
    "    :type x: array of floats\n",
    "    :param u: Sample of standard uncertainties related to the values\n",
    "    :type u: array of floats\n",
    "    :param r: (Optional) Set if the auto-rejection capability is activated or not (False by default)\n",
    "    :type tau: bool \n",
    "    :param k: (Optional) Threshold (see as quantiles of a Normal density) of the frequentist test (default value = 2.5)\n",
    "    :type k: float \n",
    "    :param conv: (Optional) Convergence paramater (set ny default equal to 1e-4)\n",
    "    :type conv: float    \n",
    "    :param x_ref: Estimation of the reference value\n",
    "    :type x_ref: float\n",
    "    :param ux_ref: Estimation of uncertainty of the reference value\n",
    "    :type ux_ref: float\n",
    "    :param w: Weights associated to each data point\n",
    "    :type w: array of floats\n",
    "    :param alpha: Value of the power paramater alpha \n",
    "    :type alpha: float\n",
    "    :param birge0: Value of the Birge ratio (before adjustment) \n",
    "    :type birge0: float\n",
    "    :param s: Estimation of the inter-laboratory standard deviation\n",
    "    :type s: float\n",
    "    :param rej: Index of the rejected points\n",
    "    :type rej: list of int  \n",
    "\n",
    "    :return y: x_ref, ux_ref, w, alpha, birge0, s, rej\n",
    "    :rtype y: tuple\n",
    "    \"\"\"\n",
    "   \n",
    "    def BirgeAdjust(x,u,s0,n,*,c=1e-4):\n",
    "        \"\"\"This function minimize the cost function (Birge-1).\n",
    "        \n",
    "        :param b: Initial Birge ratio\n",
    "        :type b: floats\n",
    "        :param x: Sample of values\n",
    "        :type x: array of floats\n",
    "        :param u: Sample of standard uncertainties related to the values\n",
    "        :type u: array of floats\n",
    "        :param s: Initial inter-laboratory standard deviation\n",
    "        :type s: floats\n",
    "        :param n: Length of the data set\n",
    "        :type n: int\n",
    "        :param c: (Optional) Convergence paramater (set ny default equal to 1e-4)\n",
    "        :type c: float\n",
    "       \n",
    "        :return s: Estimation of the inter-laboratory standard deviation\n",
    "        :rtype s: float    \n",
    "        \"\"\"\n",
    "        def birge_ratio(s, x, u, n):\n",
    "            weights = 1 / (u**2 + s**2)\n",
    "            x_mp = average(x, weights=weights)\n",
    "            return (1 / (n - 1)) * sum((x - x_mp)**2 / (u**2 + s**2)) - 1\n",
    "        def objective(s):\n",
    "            return abs(birge_ratio(s, x, u, n))\n",
    "        result = minimize(objective, s0, bounds=[(1e-6, None)], tol=c)\n",
    "        if not result.success:\n",
    "            raise RuntimeError(\"Optimization did not converge.\")\n",
    "        s = result.x[0]\n",
    "        return s\n",
    "\n",
    "#        while (b-1)>1e-4:       # Make to Birge ratio equal to 1\n",
    "#            x_mp=average(x,weights=1/(u**2+s**2)) # average weighted by the inverse of the variance\n",
    "#            b=(1/(n-1))*sum((x-x_mp)**2/((u**2+s**2)))  # Calculation of the Birge ratio\n",
    "#            if (b-1)>0:\n",
    "#                s=s+ds      # increase the value of the inter-laboratory standart deviation \n",
    "#            else:\n",
    "#                s=s-ds      # decrease the value of the inter-laboratory standart deviation \n",
    "#            if s<0:         # detection of correltation between values\n",
    "#                break # break the calculation\n",
    "#        return s\n",
    "\n",
    "    x=asarray(x)        # format input data\n",
    "    u=asarray(u)        # format input data\n",
    "    n=len(x)            # length of the data set\n",
    "    alpha=2-3/n         # initialization of the power paramater alpha    \n",
    "    s=0                 # initialization of the inter-laboratory standart deviation \n",
    "    ds=mean(u)*conv*0.1 # motion step of the inter-laboratory standart deviation \n",
    "    x_mp0=average(x,weights=1/(u**2+s**2)) # initial calculation of average weighted by the inverse of the variance\n",
    "    birge0=sqrt((1/(n-1))*sum((x-x_mp0)**2/((u**2+s**2))))  # Calculation of initial the Birge ratio\n",
    "#    s=BirgeAdjust(10,x,u,s,n,c=conv) # estimation of the inter-laboratory standart deviation \n",
    "    s=BirgeAdjust(x,u,s,n,c=conv) # estimation of the inter-laboratory standart deviation\n",
    "    barx=sum(x)/n      # calculation of the unweighted empirical mean\n",
    "    u2_barx=sum((x-barx)**2/(n*(n-1))) # calculation of the unweighted empirical variance (external variance)\n",
    "    u2_xmp=1/(sum(1/(u**2+s**2)))  # calculation of the weighted variance (internal variance)\n",
    "    S=sqrt(n*max(u2_barx,u2_xmp))  # characteristic uncertainty per datum\n",
    "    u2_xref=1/sum(1/((u**2+s**2)**(alpha/2)*S**(2-alpha))) # variance of the reference value\n",
    "    ux_ref=sqrt(u2_xref) # standard deviation of the reference value\n",
    "    w=u2_xref/((u**2+s**2)**(alpha/2)*S**(2-alpha))  # weighing factors\n",
    "    x_ref=sum(w*x) # reference value\n",
    "    \n",
    "    rej=[]  # initial the rejection list\n",
    "    if autoRej==True: # assess and reject outliers\n",
    "        e=x-x_ref # euclidian distance from the reference value\n",
    "        u2e_incl=u2_xref*(w**-1-1) # variance of DE including all value\n",
    "        # Xf=zeros(n)\n",
    "        # uf=zeros(n)\n",
    "        xf=[]   # initial filtered data list\n",
    "        uf=[]   # initial filtered data related standard deviation\n",
    "        for i in range(n):\n",
    "            # if abs(e[i])>k*sqrt(u2e_incl[i]): # frequentist test on data see Pommé C.1 (end)\n",
    "            if abs(e[i])>k*sqrt((1-2*w[i])*u[i]**2+ux_ref**2): # frequentist test idem as in PomPlot !!!!!!!!!!!!!!!!!!\n",
    "                rej.append(i) # index of the rejected point\n",
    "            else: # the data point is kept\n",
    "                xf.append(x[i])\n",
    "                uf.append(u[i])\n",
    "        if rej!=[]:\n",
    "            xf=asarray(xf)  # format the list to array\n",
    "            uf=asarray(uf)  # format the list to array\n",
    "            n2=len(xf) # length of the new data set\n",
    "            s=0\n",
    "            alpha=2-3/n2         # recalculation of the power paramater alpha\n",
    "#            s=BirgeAdjust(10,xf,uf,s,n,c=conv) # estimation of the inter-laboratory standart deviation \n",
    "            s=BirgeAdjust(xf,uf,s,n,c=conv) # estimation of the inter-laboratory standart deviation\n",
    "            barx=sum(xf)/n2      # calculation of the unweighted empirical mean\n",
    "            u2_barx=sum((xf-barx)**2/(n2*(n2-1))) # calculation of the unweighted empirical variance (external variance)\n",
    "            u2_xmp=1/(sum(1/(uf**2+s**2)))  # calculation of the weighted variance (internal variance)\n",
    "            S=sqrt(n2*max(u2_barx,u2_xmp))  # characteristic uncertainty per datum\n",
    "            u2_xref=1/sum(1/((uf**2+s**2)**(alpha/2)*S**(2-alpha))) # variance of the reference value\n",
    "            ux_ref=sqrt(u2_xref) # standard deviation of the reference value\n",
    "            w=u2_xref/((uf**2+s**2)**(alpha/2)*S**(2-alpha))  # weighing factors\n",
    "            x_ref=sum(w*xf) # reference value\n",
    "    return x_ref, ux_ref, w, alpha, birge0, s, rej"
   ]
  },
  {
   "cell_type": "markdown",
   "id": "c2ee3eb2-3cee-468a-b633-b4813a6c7fcd",
   "metadata": {},
   "source": [
    "## DoE code\n",
    "Below is the Python function to calculate the degrees of equivalence from the PMM key comparison reference value."
   ]
  },
  {
   "cell_type": "code",
   "execution_count": 5,
   "id": "99e9700a-092a-4874-af31-676642378cd4",
   "metadata": {},
   "outputs": [],
   "source": [
    "def DoE(x,u,x_ref,ux_ref,*,w=[],k=2):\n",
    "    \"\"\"This function aims to calculate Degrees of equivalence.\n",
    "    \n",
    "    This calculation applicable in the frame of international inter-laboratory comparisons of the CIPM/CCRI(II).\n",
    "    This calculation is associated with the use of the Power-Modered Mean (PMM) estimation of reference values.\n",
    "    \n",
    "    References: \n",
    "        [Accred Qual Assur (2008)13:83-89, Metrologia 52(2015)S200]\n",
    "        https://link.springer.com/article/10.1007/s00769-007-0330-1\n",
    "        https://iopscience.iop.org/article/10.1088/0026-1394/52/3/S200/pdf\n",
    "    \n",
    "    :param x: Sample of values\n",
    "    :type x: array of floats\n",
    "    :param u: Sample of standard uncertainties related to the values\n",
    "    :type u: array of floats\n",
    "    :param x_ref: Estimation of the reference value\n",
    "    :type x_ref: float\n",
    "    :param ux_ref: Estimation of uncertainty of the reference value\n",
    "    :type ux_ref: float\n",
    "    \n",
    "    :param w: (Optional) Weights associated to each data point.\n",
    "    :type w: array of floats\n",
    "    :param k: (Optional) Coverage factor (set by default equal to 2)\n",
    "    :type k: float    \n",
    "    \n",
    "    :param d: Estimation of the degrees of equivalence\n",
    "    :type d: array of floats\n",
    "    :param ud: Estimation of the uncertainties related to the degrees of equivalence\n",
    "    :type ud: array of floats    \n",
    "    :param dr: Estimation of the relative degrees of equivalence\n",
    "    :type dr: array of floats\n",
    "    :param udr: Estimation of the uncertainties related to the relative degrees of equivalence\n",
    "    :type udr: array of floats  \n",
    "    \n",
    "    :return y: d, ud, dr, udr\n",
    "    :rtype y: tuple\n",
    "    \"\"\"\n",
    "    if w==[]: w=zeros(len(x))\n",
    "    x=asarray(x) # format input data\n",
    "    u=asarray(u) # format input data\n",
    "    w=asarray(w) # format input data\n",
    "    k=2\n",
    "    d=x-x_ref  # euclidian distance from the reference value\n",
    "    u2d=(1-2*w)*u**2+ux_ref**2 # variance associated with DE (the weight factor is available)\n",
    "    ud=k*u2d**0.5     # enlarged standard deviation associated with DoE\n",
    "    dr=d/x_ref        # relative DoE\n",
    "    udr=ud/x_ref      # relative u(DoE)\n",
    "    return d, ud, dr, udr"
   ]
  },
  {
   "cell_type": "markdown",
   "id": "9b9c44e7-5488-48e5-9c41-dfec9e5685be",
   "metadata": {},
   "source": [
    "## Code to plot the DoEs\n",
    "Below is the Python function to plot the degrees of equivalence obtained from the PMM key comparison reference value."
   ]
  },
  {
   "cell_type": "code",
   "execution_count": 6,
   "id": "fb667355-9f3b-49bc-854b-2fed8d448c8f",
   "metadata": {},
   "outputs": [],
   "source": [
    "def plotDoE(x,d,ud,dr,udr,*,unitDoE=\"MBq\",unitrDoE=\"kBq/MBq\",scale=1e3,scaleAx=1.5,coef=1e3):\n",
    "    \"\"\"\n",
    "    This function allows to display and save the degrees of equivalence produced during international inter-laboratory comparisons of the CIPM/CCRI(II).\n",
    "    \n",
    "    The function has the particularty to display both relative and absolute degrees of equivalence.\n",
    "    The figure is recorded in the folder of the radionuclide name such as rad.png.\n",
    "    The function return the DoEs data chronologically sorted.\n",
    "    \n",
    "    :param x: List of the laboratory names\n",
    "    :type x: list of string\n",
    "    :param t: Years of submissions\n",
    "    :type t: string\n",
    "    :param d: Estimation of the degrees of equivalence\n",
    "    :type d: array of floats\n",
    "    :param ud: Estimation of the uncertainties related to the degrees of equivalence\n",
    "    :type ud: array of floats    \n",
    "    :param dr: Estimation of the relative degrees of equivalence\n",
    "    :type dr: array of floats\n",
    "    :param udr: Estimation of the uncertainties related to the relative degrees of equivalence\n",
    "    :type udr: array of floats   \n",
    "    :param rad: Name of the radionuclide (eg. Sr-85)\n",
    "    :type rad: string\n",
    "    :param year: Year of the comparison\n",
    "    :type year: string\n",
    "    :param unitDoE: (Optional) Unit of degrees of equivalence (kBq or MBq) (By default \"MBq\")\n",
    "    :type unitDoE: string\n",
    "    :param unitrDoE: (Optional) Unit of relative degrees of equivalence (kBq or MBq) (By default \"kBq/MBq\")\n",
    "    :type unitrDoE: string\n",
    "    :param scale: (Optional) Scale of the relative degrees of equivalence (By default 1e3)\n",
    "    :type scale: float\n",
    "    :param scaleAx: (Optional) Scale of y-axis accordingly to the min max values (By default 1.5)\n",
    "    :type scaleAx: float\n",
    "    \n",
    "    \n",
    "    :param x: sorted laboratory names.\n",
    "    :type x: list of strings\n",
    "    :param d: sorted degrees of equivalence.\n",
    "    :type d: list of floats\n",
    "    :param ud: sorted uncertainties of DoEs.\n",
    "    :type ud: list of floats\n",
    "    :param dr: sorted relative degrees of equivalence.\n",
    "    :type dr: list of floats\n",
    "    :param udr: sorted uncertainties of relative DoEs.\n",
    "    :type udr: list of floats\n",
    "    \n",
    "    :return: DoEs data chronologically sorted: x,d,ud,dr,udr\n",
    "    :rtype: tuple of lists\n",
    "    \n",
    "    \"\"\"\n",
    "    k=1       \n",
    "    fig, ax = subplots() # create of subplot object\n",
    "    ax2 = ax.twinx() # define a twin-axis\n",
    "    # define the title\n",
    "    ax.set_title(\"Degrees of equivalence for equivalent activity\", fontsize=12)\n",
    "    ax.errorbar(x,d,yerr=ud, fmt='or') # plot the absolute DoEs\n",
    "    ax.set_ylabel(r'$[D_{i}]$ /'+unitDoE, fontsize=12)\n",
    "    ax2.errorbar(x,scale*asarray(dr),yerr=scale*asarray(udr), fmt='or', capsize=3, ecolor='r') # plot the relative DoEs\n",
    "    ax2.set_ylabel(r'$[D_{i}/x_{R}]$ / ('+unitrDoE+')', fontsize=12) \n",
    "    # ax.tick_params(\"x\",labelrotation=45, labelbottom=True, bottom=True,labeltop=False) # write NMI name on the x-axis\n",
    "    # ax2.tick_params(\"x\",labelrotation=45, labelbottom=True, bottom=True,labeltop=False)\n",
    "    ax.tick_params(\"x\",labelrotation=90, labelbottom=True, bottom=True,labeltop=False) # write NMI name on the x-axis\n",
    "    ax2.tick_params(\"x\",labelrotation=90, labelbottom=True, bottom=True,labeltop=False)\n",
    "    axhline(c='k',lw=1)\n",
    "    # adjust the twin y-axis\n",
    "    ymin, ymax = ax.get_ylim()\n",
    "    ax.set_ylim(scaleAx*ymin,scaleAx*ymax)\n",
    "    ymin, ymax = ax2.get_ylim()\n",
    "    ax2.set_ylim(scaleAx*ymin,scaleAx*ymax)"
   ]
  },
  {
   "cell_type": "markdown",
   "id": "531b71e7-b211-4b29-b125-663590ad6549",
   "metadata": {},
   "source": [
    "## Code PomPlot\n",
    "Below is the Python function to plot the PomPlot, an alternative representation of key comparison results."
   ]
  },
  {
   "cell_type": "code",
   "execution_count": 7,
   "id": "fd015ba7-add4-40d9-8a47-3243d2a6e466",
   "metadata": {},
   "outputs": [],
   "source": [
    "def pomplot(q,d,ud,*,xm=-8,xM=8,ym=5,yM=0,Tpe=\"KCRV\"):    \n",
    "    \"\"\"\n",
    "    This function allows to display the POMPLOT of a inter-laboratory comparison.\n",
    "    \n",
    "    It proposes a visualization facilitating the analysis inter-laboratory comparison data.\n",
    "    The POMPLOT tool is used by the CIPM/CCRI(II).\n",
    "    The figure is recorded in the folder of the radionuclide name such as rad.png. \n",
    "    \n",
    "    Reference:\n",
    "    Spasova, Y., Pommé, S. & Wätjen, U. Visualisation of interlaboratory comparison results in PomPlots. Accred Qual Assur 12, 623–627 (2007). https://doi.org/10.1007/s00769-007-0319-9\n",
    "    \n",
    "    :param q: Name of the laboratory\n",
    "    :type q: list of strings    \n",
    "    :param d: Estimation of the degrees of equivalence\n",
    "    :type d: array of floats\n",
    "    :param ud: Estimation of the uncertainties related to the degrees of equivalence\n",
    "    :type ud: array of floats    \n",
    "    :param rad: Name of the radionuclide (eg. Sr-85)\n",
    "    :type rad: string\n",
    "    :param year: Year of the comparison\n",
    "    :type year: string\n",
    "    :param xm: (Optional) Minimum x-axis value of the plot frame (Default -8)\n",
    "    :type xm: float\n",
    "    :param xM: (Optional) Minimum x-axis value of the plot frame (Default 8)\n",
    "    :type xM: float\n",
    "    :param ym: (Optional) Minimum y-axis value of the plot frame (Default 5)\n",
    "    :type ym: float\n",
    "    :param yM: (Optional) Minimum y-axis value of the plot frame (Default 0)\n",
    "    :type yM: float\n",
    "    :param Tpe: (Optional) Type of Pomplot. for KCRV or for DoE (Default KCRV)\n",
    "    \n",
    "    \"\"\"\n",
    "    d=asarray(d)\n",
    "    # ud=asarray(ud)*0.5  # test correction 24/06 !!!!!!!!!!!!!!!!!!!!!!!!!!!!!!!!\n",
    "    ud=asarray(ud)\n",
    "    MAD=median(abs(d)) # median of absolute value of degrees of equivalence\n",
    "    x=d/MAD            # x-coordinates\n",
    "    y=ud/MAD           # y-coordinates\n",
    "    # set the location of the axis\n",
    "    rcParams['xtick.bottom'] = rcParams['xtick.labelbottom'] = False\n",
    "    rcParams['xtick.top'] = rcParams['xtick.labeltop'] = True\n",
    "    fig, ax = subplots() # create of subplot object\n",
    "    ax.plot(x,y,'ok')\n",
    "    # define the frame\n",
    "    ylim(1.1*max(y),0)\n",
    "    xlim(1.1*min(x),1.1*max(x))\n",
    "    # print axes title\n",
    "    ax.set_title(r'$D_{i}$/med($D$)', fontsize=14)\n",
    "    ax.set_ylabel(r'$u(D_{i})$/med($D$)', fontsize=14)\n",
    "    # draw the lignes\n",
    "    x0=arange(-9,9,1)\n",
    "    y0=arange(-9,9,1)\n",
    "    plot(x0,y0,'-g',label=r'$\\zeta=1$')\n",
    "    plot(x0,-y0,'-g')\n",
    "    plot(x0,y0/2,'-b',label=r'$\\zeta=2$')\n",
    "    plot(x0,-y0/2,'-b')\n",
    "    plot(x0,y0/3,'-r',label=r'$\\zeta=3$')\n",
    "    plot(x0,-y0/3,'-r')\n",
    "    for i,g in enumerate(q):\n",
    "        text(x[i]+0.1,y[i]+0.1,g)\n",
    "    legend() # display the legend"
   ]
  },
  {
   "cell_type": "markdown",
   "id": "e6cea9b1-be5d-430d-be2a-f3aaa9a889e4",
   "metadata": {},
   "source": [
    "## Enter your data\n",
    "`lab` is the list of laboratories\n",
    "`x` is the measurement values\n",
    "`u` is the standard uncertainties "
   ]
  },
  {
   "cell_type": "code",
   "execution_count": 8,
   "id": "5c829499-e2d4-4bdb-bad4-90b405fc44af",
   "metadata": {},
   "outputs": [],
   "source": [
    "#lab = [\"CMI\", \"IFIN-HH\", \"IRA\",  \"JRC\", \"LNE-LNHB\", \"NPL\", \"PTB\"]\n",
    "#x =   [559.4, 550.3,      539.7, 565.2, 560.2,      559.5, 559.0]\n",
    "#u =   [2.5,   5.1,        2.5,   9.3,   1.7,        1.8,   2.7]\n",
    "\n",
    "lab = df[\"lab\"].tolist()\n",
    "x = df[\"x\"].tolist()\n",
    "u = df[\"u\"].tolist()"
   ]
  },
  {
   "cell_type": "markdown",
   "id": "11897492-672f-48d2-8062-7b5334ffc48b",
   "metadata": {},
   "source": [
    "## Run PMM without the auto-test (can take time...)\n",
    "Below the PMM is run skipping the auto-test to reject possible outliers"
   ]
  },
  {
   "cell_type": "code",
   "execution_count": 9,
   "id": "d5998fee-ba8f-4806-97c5-cd7d0d5ef0dc",
   "metadata": {},
   "outputs": [
    {
     "name": "stdout",
     "output_type": "stream",
     "text": [
      "KCRV = 7599.149\n",
      "u(KCRV) = 8.749053\n",
      "Weights = [0.31914894 0.42553191 0.25531915]\n",
      "Alpha = 1\n",
      "Birge ratio = 0.3231052\n",
      "Dark uncertainty = 1e-06\n"
     ]
    }
   ],
   "source": [
    "results=PMM(x,u,autoRej=False)\n",
    "print(f\"KCRV = {results[0]:.7g}\")\n",
    "print(f\"u(KCRV) = {results[1]:.7g}\")\n",
    "print(f\"Weights = {results[2]}\")\n",
    "print(f\"Alpha = {results[3]:.7g}\")\n",
    "print(f\"Birge ratio = {results[4]:.7g}\")\n",
    "print(f\"Dark uncertainty = {results[5]:.7g}\")"
   ]
  },
  {
   "cell_type": "markdown",
   "id": "8a423f9d-07e0-43fa-bebf-e39f0137f2f5",
   "metadata": {},
   "source": [
    "## Plot the DoEs\n",
    "Below the degrees of equivalences are plotted from above PMM KCRV."
   ]
  },
  {
   "cell_type": "code",
   "execution_count": 10,
   "id": "35a7255a-25ce-4968-910d-b3b67c369f29",
   "metadata": {},
   "outputs": [
    {
     "name": "stdout",
     "output_type": "stream",
     "text": [
      "BIPM_pilot:\t D = 4.85  +/- 26 (k=2)\n",
      "LABPROSAUD/IFBA:\t D = -4.15  +/- 19.8 (k=2)\n",
      "NIM:\t D = 0.851  +/- 33 (k=2)\n"
     ]
    },
    {
     "data": {
      "image/png": "[encoded data removed]",
      "text/plain": [
       "<Figure size 640x480 with 2 Axes>"
      ]
     },
     "metadata": {},
     "output_type": "display_data"
    }
   ],
   "source": [
    "D=DoE(x,u,results[0],results[1],w=results[2].tolist())\n",
    "for i in range(len(D[0])): print(f\"{lab[i]}:\\t D = {D[0][i]:.3g}  +/- {D[1][i]:.3g} (k=2)\")\n",
    "plotDoE(lab,D[0],D[1],D[2],D[3])"
   ]
  },
  {
   "cell_type": "markdown",
   "id": "ab12a6d1-3d08-4350-b1e1-03939a6292a4",
   "metadata": {},
   "source": [
    "## Plot the PomPlot\n",
    "Below the PomPlot is displayed from the above PMM analysis. It underlines the consistency of each point with the consensus value. It is related to $\\zeta$ test implemented in PMM, see `if abs(e[i])>k*sqrt(u2e_incl[i]):` in PMM code where quantile `k` is relatated to the $\\zeta$ lines in PomPlot? (to be check, it is indeed not clear...)\n",
    "\n",
    "* L'autotest de PMM rejecte l'hypothèse nulle $H_0$ si $|d_i|>\\zeta u(KCRV) \\sqrt{1/w_i-1}$\n",
    "* Le test de PomPlot rejecte l'hypothèse nulle $H_0$ si $|d_i|>\\zeta 2\\sqrt{(1-2w_i)u_i^2+u(KCRV)^2}$\n",
    "\n",
    "Or Pommé montre dans son equation C.1 que $u(KCRV) \\sqrt{1/w_i-1} = \\sqrt{(1-2w_i)u_i^2+u(KCRV)^2}$\n",
    "\n",
    "* L'autotest de PMM rejecte l'hypothèse nulle $H_0$ si $|d_i|>\\zeta 2\\sqrt{(1-2w_i)u_i^2+u(KCRV)^2}$\n",
    "* Le test de PomPlot rejecte l'hypothèse nulle $H_0$ si $|d_i|>\\zeta 2\\sqrt{(1-2w_i)u_i^2+u(KCRV)^2}$\n"
   ]
  },
  {
   "cell_type": "code",
   "execution_count": 11,
   "id": "2afc8ae0-30fb-4132-9e52-e84a0b7c48c0",
   "metadata": {},
   "outputs": [
    {
     "data": {
      "image/png": "[encoded data removed]",
      "text/plain": [
       "<Figure size 640x480 with 1 Axes>"
      ]
     },
     "metadata": {},
     "output_type": "display_data"
    }
   ],
   "source": [
    "pomplot(lab,D[0],D[1])"
   ]
  },
  {
   "cell_type": "markdown",
   "id": "a1266ec7-9390-45c7-9391-f8706ffbd579",
   "metadata": {},
   "source": [
    "## Re-Run PMM with the auto-test (can take time...)\n",
    "Now the PMM is run with the auto-test to reject possible outliers"
   ]
  },
  {
   "cell_type": "code",
   "execution_count": 12,
   "id": "a0c838de-a049-4fac-98df-82cf73b1dc7b",
   "metadata": {},
   "outputs": [
    {
     "name": "stdout",
     "output_type": "stream",
     "text": [
      "KCRV = 7599.149\n",
      "u(KCRV) = 8.749053\n",
      "weights = [0.31914894 0.42553191 0.25531915]\n",
      "alpha = 1\n",
      "Birge ratio = 0.3231052\n",
      "dark uncertainty = 1e-06\n",
      "no outlier\n"
     ]
    }
   ],
   "source": [
    "results=PMM(x,u,autoRej=True)\n",
    "print(f\"KCRV = {results[0]:.7g}\")\n",
    "print(f\"u(KCRV) = {results[1]:.7g}\")\n",
    "print(f\"weights = {results[2]}\")\n",
    "print(f\"alpha = {results[3]:.7g}\")\n",
    "print(f\"Birge ratio = {results[4]:.7g}\")\n",
    "print(f\"dark uncertainty = {results[5]:.7g}\")\n",
    "if results[6] != []:\n",
    "    for j in results[6]:\n",
    "        print(f\"detected outlier = {lab[j]}\")\n",
    "else: print(f\"no outlier\")"
   ]
  },
  {
   "cell_type": "markdown",
   "id": "5ae7a64a-397a-450e-a084-6153fef8178f",
   "metadata": {},
   "source": [
    "## Filtering the outliers "
   ]
  },
  {
   "cell_type": "code",
   "execution_count": 13,
   "id": "2f014dea-583c-4b0a-9c99-e6fdaafb77bc",
   "metadata": {},
   "outputs": [
    {
     "name": "stdout",
     "output_type": "stream",
     "text": [
      "Laboratory : ['BIPM_pilot', 'LABPROSAUD/IFBA', 'NIM']\n",
      "x = [7604.0, 7595.0, 7600.0]\n",
      "u = [16.0, 12.0, 20.0]\n"
     ]
    }
   ],
   "source": [
    "lab = [item for idx, item in enumerate(lab) if idx not in results[6]]\n",
    "x = [item for idx, item in enumerate(x) if idx not in results[6]]\n",
    "u = [item for idx, item in enumerate(u) if idx not in results[6]]\n",
    "print(f\"Laboratory : {lab}\")\n",
    "print(f\"x = {x}\")\n",
    "print(f\"u = {u}\")"
   ]
  },
  {
   "cell_type": "markdown",
   "id": "ff0181e0-f597-4301-ae60-78569c31c27e",
   "metadata": {},
   "source": [
    "## Re-Re-Run PMM without the auto-test (can take time...)\n",
    "Now the PMM is run again without the outliers"
   ]
  },
  {
   "cell_type": "code",
   "execution_count": 14,
   "id": "ecb94f0f-24b4-4724-a948-f212683a89e1",
   "metadata": {},
   "outputs": [
    {
     "name": "stdout",
     "output_type": "stream",
     "text": [
      "KCRV = 7599.149\n",
      "u(KCRV) = 8.749053\n",
      "weights = [0.31914894 0.42553191 0.25531915]\n",
      "alpha = 1\n",
      "Birge ratio = 0.3231052\n",
      "dark uncertainty = 1e-06\n"
     ]
    }
   ],
   "source": [
    "results=PMM(x,u,autoRej=False)\n",
    "print(f\"KCRV = {results[0]:.7g}\")\n",
    "print(f\"u(KCRV) = {results[1]:.7g}\")\n",
    "print(f\"weights = {results[2]}\")\n",
    "print(f\"alpha = {results[3]:.7g}\")\n",
    "print(f\"Birge ratio = {results[4]:.7g}\")\n",
    "print(f\"dark uncertainty = {results[5]:.7g}\")"
   ]
  },
  {
   "cell_type": "markdown",
   "id": "be062a21-6ecc-47a3-918c-5ea7d254ae00",
   "metadata": {},
   "source": [
    "## Re-Plot the DoEs\n",
    "Below the degrees of equivalences are plotted from above PMM KCRV."
   ]
  },
  {
   "cell_type": "code",
   "execution_count": 15,
   "id": "5cfbe041-2b5d-486e-98eb-fed6772bcc8a",
   "metadata": {},
   "outputs": [
    {
     "name": "stdout",
     "output_type": "stream",
     "text": [
      "BIPM_pilot:\t D = 4.85  +/- 26 (k=2)\n",
      "LABPROSAUD/IFBA:\t D = -4.15  +/- 19.8 (k=2)\n",
      "NIM:\t D = 0.851  +/- 33 (k=2)\n"
     ]
    },
    {
     "data": {
      "text/plain": [
       "<Figure size 800x600 with 0 Axes>"
      ]
     },
     "metadata": {},
     "output_type": "display_data"
    },
    {
     "data": {
      "image/png": "[encoded data removed]",
      "text/plain": [
       "<Figure size 640x480 with 2 Axes>"
      ]
     },
     "metadata": {},
     "output_type": "display_data"
    }
   ],
   "source": [
    "D=DoE(x,u,results[0],results[1],w=results[2].tolist())\n",
    "for i in range(len(D[0])): print(f\"{lab[i]}:\\t D = {D[0][i]:.3g}  +/- {D[1][i]:.3g} (k=2)\")\n",
    "figure(figsize=(8, 6))\n",
    "plotDoE(lab, D[0], D[1], D[2], D[3])\n",
    "xticks(rotation=45)\n",
    "tight_layout()\n",
    "savefig(\"report/doe_plot.jpg\", format=\"jpg\", dpi=300)"
   ]
  },
  {
   "cell_type": "code",
   "execution_count": null,
   "id": "389df22c",
   "metadata": {},
   "outputs": [],
   "source": [
    "#Generate .txt file from KCRV and DoE\n",
    "with open(\"report/rv_and_doe_summary.txt\", \"w\") as f:\n",
    "    # Header: KCRV and uncertainty\n",
    "    f.write(f\"KCRV = {results[0]:.7g}\\n\")\n",
    "    f.write(f\"u(KCRV) = {results[1]:.7g}\\n\\n\")\n",
    "\n",
    "    # DoE Table\n",
    "    f.write(\"Degrees of Equivalence (k=2):\\n\")\n",
    "    for i in range(len(D[0])):\n",
    "        f.write(f\"{lab[i]:<18} D = {D[0][i]:>6.3g}  +/- {D[1][i]:.2g}\\n\")\n"
   ]
  },
  {
   "cell_type": "markdown",
   "id": "36824e11-ee97-4ead-b3b2-9b79d8f63eb1",
   "metadata": {},
   "source": [
    "## Re-Plot the PomPlot\n",
    "Below the PomPlot is displayed from the above PMM analysis. It underlines the consistency of each point with the consensus value. It is related to $\\zeta$ test implemented in PMM, see `if abs(e[i])>k*sqrt(u2e_incl[i]):` in PMM code where quantile `k` is relatated to the $\\zeta$ lines in PomPlot? (to be check, it is indeed not clear...)"
   ]
  },
  {
   "cell_type": "code",
   "execution_count": 17,
   "id": "4dcf19a9-cdb7-4652-be1c-89052d55c903",
   "metadata": {},
   "outputs": [
    {
     "data": {
      "image/png": "[encoded data removed]",
      "text/plain": [
       "<Figure size 640x480 with 1 Axes>"
      ]
     },
     "metadata": {},
     "output_type": "display_data"
    }
   ],
   "source": [
    "pomplot(lab,D[0],D[1])"
   ]
  }
 ],
 "metadata": {
  "kernelspec": {
   "display_name": "Python 3",
   "language": "python",
   "name": "python3"
  },
  "language_info": {
   "codemirror_mode": {
    "name": "ipython",
    "version": 3
   },
   "file_extension": ".py",
   "mimetype": "text/x-python",
   "name": "python",
   "nbconvert_exporter": "python",
   "pygments_lexer": "ipython3",
   "version": "3.13.2"
  }
 },
 "nbformat": 4,
 "nbformat_minor": 5
}
